{
 "cells": [
  {
   "cell_type": "code",
   "execution_count": null,
   "metadata": {},
   "outputs": [],
   "source": [
    "#1. Изобразите отношение households к population с помощью точечного графика\n",
    "\n",
    "##2. Визуализировать longitude по отношения к median_house_value, используя линейный график\n",
    "#3. Представить гистограмму по housing_median_age\n",
    "#4. Изобразить гистограмму по median_house_value с оттенком housing_median_age\n"
   ]
  }
 ],
 "metadata": {
  "language_info": {
   "name": "python"
  },
  "orig_nbformat": 4
 },
 "nbformat": 4,
 "nbformat_minor": 2
}
