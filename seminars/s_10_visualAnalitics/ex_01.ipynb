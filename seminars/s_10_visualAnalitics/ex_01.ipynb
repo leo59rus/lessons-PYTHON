{
 "cells": [
  {
   "cell_type": "code",
   "execution_count": null,
   "metadata": {},
   "outputs": [],
   "source": [
    "#1. Изобразите отношение households к population с помощью точечного графика\n",
    "\n",
    "##2. Визуализировать longitude по отношения к median_house_value, используя линейный график\n",
    "#3. Представить гистограмму по housing_median_age\n",
    "#4. Изобразить гистограмму по median_house_value с оттенком housing_median_age\n"
   ]
  }
 ],
 "metadata": {
  "kernelspec": {
   "display_name": "Python 3.10.6 ('.folder': venv)",
   "language": "python",
   "name": "python3"
  },
  "language_info": {
   "name": "python",
   "version": "3.10.6"
  },
  "orig_nbformat": 4,
  "vscode": {
   "interpreter": {
    "hash": "4ddf9b961b98d96e25adc3c1020fe5d250f9596904ac4654fdaefd0c477b9487"
   }
  }
 },
 "nbformat": 4,
 "nbformat_minor": 2
}
