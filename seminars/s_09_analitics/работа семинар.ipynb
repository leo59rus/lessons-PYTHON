{
 "cells": [
  {
   "cell_type": "code",
   "execution_count": 13,
   "id": "8e72ff89-ce13-460e-ae5b-cfe0571024c8",
   "metadata": {
    "tags": []
   },
   "outputs": [],
   "source": [
    "import pandas as pd "
   ]
  },
  {
   "cell_type": "code",
   "execution_count": 14,
   "id": "1f60b10b-f300-4efa-b4bb-e413979becc3",
   "metadata": {
    "tags": []
   },
   "outputs": [],
   "source": [
    "df = pd.read_csv('/home/leonid/Загрузки/seminar 9 analitics/california_housing_train.csv')"
   ]
  },
  {
   "cell_type": "code",
   "execution_count": 15,
   "id": "a4cf3594-74f1-4b46-9974-52c66bc3b352",
   "metadata": {
    "tags": []
   },
   "outputs": [
    {
     "data": {
      "text/html": [
       "<div>\n",
       "<style scoped>\n",
       "    .dataframe tbody tr th:only-of-type {\n",
       "        vertical-align: middle;\n",
       "    }\n",
       "\n",
       "    .dataframe tbody tr th {\n",
       "        vertical-align: top;\n",
       "    }\n",
       "\n",
       "    .dataframe thead th {\n",
       "        text-align: right;\n",
       "    }\n",
       "</style>\n",
       "<table border=\"1\" class=\"dataframe\">\n",
       "  <thead>\n",
       "    <tr style=\"text-align: right;\">\n",
       "      <th></th>\n",
       "      <th>longitude</th>\n",
       "      <th>latitude</th>\n",
       "      <th>housing_median_age</th>\n",
       "      <th>total_rooms</th>\n",
       "      <th>total_bedrooms</th>\n",
       "      <th>population</th>\n",
       "      <th>households</th>\n",
       "      <th>median_income</th>\n",
       "      <th>median_house_value</th>\n",
       "    </tr>\n",
       "  </thead>\n",
       "  <tbody>\n",
       "    <tr>\n",
       "      <th>0</th>\n",
       "      <td>-114.31</td>\n",
       "      <td>34.19</td>\n",
       "      <td>15.0</td>\n",
       "      <td>5612.0</td>\n",
       "      <td>1283.0</td>\n",
       "      <td>1015.0</td>\n",
       "      <td>472.0</td>\n",
       "      <td>1.4936</td>\n",
       "      <td>66900.0</td>\n",
       "    </tr>\n",
       "    <tr>\n",
       "      <th>1</th>\n",
       "      <td>-114.47</td>\n",
       "      <td>34.40</td>\n",
       "      <td>19.0</td>\n",
       "      <td>7650.0</td>\n",
       "      <td>1901.0</td>\n",
       "      <td>1129.0</td>\n",
       "      <td>463.0</td>\n",
       "      <td>1.8200</td>\n",
       "      <td>80100.0</td>\n",
       "    </tr>\n",
       "    <tr>\n",
       "      <th>2</th>\n",
       "      <td>-114.56</td>\n",
       "      <td>33.69</td>\n",
       "      <td>17.0</td>\n",
       "      <td>720.0</td>\n",
       "      <td>174.0</td>\n",
       "      <td>333.0</td>\n",
       "      <td>117.0</td>\n",
       "      <td>1.6509</td>\n",
       "      <td>85700.0</td>\n",
       "    </tr>\n",
       "    <tr>\n",
       "      <th>3</th>\n",
       "      <td>-114.57</td>\n",
       "      <td>33.64</td>\n",
       "      <td>14.0</td>\n",
       "      <td>1501.0</td>\n",
       "      <td>337.0</td>\n",
       "      <td>515.0</td>\n",
       "      <td>226.0</td>\n",
       "      <td>3.1917</td>\n",
       "      <td>73400.0</td>\n",
       "    </tr>\n",
       "    <tr>\n",
       "      <th>4</th>\n",
       "      <td>-114.57</td>\n",
       "      <td>33.57</td>\n",
       "      <td>20.0</td>\n",
       "      <td>1454.0</td>\n",
       "      <td>326.0</td>\n",
       "      <td>624.0</td>\n",
       "      <td>262.0</td>\n",
       "      <td>1.9250</td>\n",
       "      <td>65500.0</td>\n",
       "    </tr>\n",
       "  </tbody>\n",
       "</table>\n",
       "</div>"
      ],
      "text/plain": [
       "   longitude  latitude  housing_median_age  total_rooms  total_bedrooms  \\\n",
       "0    -114.31     34.19                15.0       5612.0          1283.0   \n",
       "1    -114.47     34.40                19.0       7650.0          1901.0   \n",
       "2    -114.56     33.69                17.0        720.0           174.0   \n",
       "3    -114.57     33.64                14.0       1501.0           337.0   \n",
       "4    -114.57     33.57                20.0       1454.0           326.0   \n",
       "\n",
       "   population  households  median_income  median_house_value  \n",
       "0      1015.0       472.0         1.4936             66900.0  \n",
       "1      1129.0       463.0         1.8200             80100.0  \n",
       "2       333.0       117.0         1.6509             85700.0  \n",
       "3       515.0       226.0         3.1917             73400.0  \n",
       "4       624.0       262.0         1.9250             65500.0  "
      ]
     },
     "execution_count": 15,
     "metadata": {},
     "output_type": "execute_result"
    }
   ],
   "source": [
    "df.head()\n"
   ]
  },
  {
   "cell_type": "code",
   "execution_count": 6,
   "id": "4eb27a9a-ee73-47e8-abee-146993e2ad31",
   "metadata": {
    "tags": []
   },
   "outputs": [],
   "source": [
    "# 1 Посмотреть сколько в нем строк и столбцов\n",
    "# 2 Определить какой тип данных имеют столбцы"
   ]
  },
  {
   "cell_type": "code",
   "execution_count": 16,
   "id": "135648c0-49e1-45ee-a9e2-ab8a7b3ca8db",
   "metadata": {
    "tags": []
   },
   "outputs": [
    {
     "data": {
      "text/plain": [
       "(17000, 9)"
      ]
     },
     "execution_count": 16,
     "metadata": {},
     "output_type": "execute_result"
    }
   ],
   "source": [
    "df.shape"
   ]
  },
  {
   "cell_type": "code",
   "execution_count": 17,
   "id": "c30be78d-2e5d-4da9-84a0-84c4173832f1",
   "metadata": {
    "tags": []
   },
   "outputs": [
    {
     "data": {
      "text/plain": [
       "longitude             float64\n",
       "latitude              float64\n",
       "housing_median_age    float64\n",
       "total_rooms           float64\n",
       "total_bedrooms        float64\n",
       "population            float64\n",
       "households            float64\n",
       "median_income         float64\n",
       "median_house_value    float64\n",
       "dtype: object"
      ]
     },
     "execution_count": 17,
     "metadata": {},
     "output_type": "execute_result"
    }
   ],
   "source": [
    "#2\n",
    "df.dtypes"
   ]
  },
  {
   "cell_type": "code",
   "execution_count": 11,
   "id": "4de3377f-d10a-40c5-8325-3e1ca1aeff2d",
   "metadata": {
    "tags": []
   },
   "outputs": [],
   "source": [
    "#california_housing_test.csv, который находится в папке\n",
    "#sample_data\n",
    "#2. Посмотреть сколько в нем строк и столбцов\n",
    "#3. Определить какой тип данных имеют столбцы"
   ]
  },
  {
   "cell_type": "code",
   "execution_count": 18,
   "id": "4b5c0011-544a-4fe5-a589-a0aef8deeaac",
   "metadata": {
    "tags": []
   },
   "outputs": [],
   "source": [
    "df = pd.read_csv('/home/leonid/Загрузки/seminar 9 analitics/california_housing_test.csv')"
   ]
  },
  {
   "cell_type": "code",
   "execution_count": 19,
   "id": "75d94aec-9833-4844-b1d2-7f7b616aea82",
   "metadata": {
    "tags": []
   },
   "outputs": [
    {
     "data": {
      "text/plain": [
       "(3000, 9)"
      ]
     },
     "execution_count": 19,
     "metadata": {},
     "output_type": "execute_result"
    }
   ],
   "source": [
    "df.shape"
   ]
  },
  {
   "cell_type": "code",
   "execution_count": 20,
   "id": "361d3ff1-38ae-4921-be2a-bc68281d951b",
   "metadata": {
    "tags": []
   },
   "outputs": [
    {
     "data": {
      "text/plain": [
       "longitude             float64\n",
       "latitude              float64\n",
       "housing_median_age    float64\n",
       "total_rooms           float64\n",
       "total_bedrooms        float64\n",
       "population            float64\n",
       "households            float64\n",
       "median_income         float64\n",
       "median_house_value    float64\n",
       "dtype: object"
      ]
     },
     "execution_count": 20,
     "metadata": {},
     "output_type": "execute_result"
    }
   ],
   "source": [
    "df.dtypes"
   ]
  },
  {
   "cell_type": "code",
   "execution_count": 15,
   "id": "0775064e-fc8a-43af-b56c-c93534f20091",
   "metadata": {
    "tags": []
   },
   "outputs": [],
   "source": [
    "# 1. Проверить есть ли в файле пустые значения\n",
    "# 2. Показать median_house_value где median_income < 2\n",
    "# 3. Показать данные в первых 2 столбцах\n",
    "# 4. Выбрать данные где housing_median_age < 20 и\n",
    "# median_house_value > 70000"
   ]
  },
  {
   "cell_type": "code",
   "execution_count": 21,
   "id": "d24386bd-6af1-41a2-bce6-178c075363de",
   "metadata": {
    "tags": []
   },
   "outputs": [
    {
     "data": {
      "text/html": [
       "<div>\n",
       "<style scoped>\n",
       "    .dataframe tbody tr th:only-of-type {\n",
       "        vertical-align: middle;\n",
       "    }\n",
       "\n",
       "    .dataframe tbody tr th {\n",
       "        vertical-align: top;\n",
       "    }\n",
       "\n",
       "    .dataframe thead th {\n",
       "        text-align: right;\n",
       "    }\n",
       "</style>\n",
       "<table border=\"1\" class=\"dataframe\">\n",
       "  <thead>\n",
       "    <tr style=\"text-align: right;\">\n",
       "      <th></th>\n",
       "      <th>longitude</th>\n",
       "      <th>latitude</th>\n",
       "      <th>housing_median_age</th>\n",
       "      <th>total_rooms</th>\n",
       "      <th>total_bedrooms</th>\n",
       "      <th>population</th>\n",
       "      <th>households</th>\n",
       "      <th>median_income</th>\n",
       "      <th>median_house_value</th>\n",
       "    </tr>\n",
       "  </thead>\n",
       "  <tbody>\n",
       "    <tr>\n",
       "      <th>0</th>\n",
       "      <td>False</td>\n",
       "      <td>False</td>\n",
       "      <td>False</td>\n",
       "      <td>False</td>\n",
       "      <td>False</td>\n",
       "      <td>False</td>\n",
       "      <td>False</td>\n",
       "      <td>False</td>\n",
       "      <td>False</td>\n",
       "    </tr>\n",
       "    <tr>\n",
       "      <th>1</th>\n",
       "      <td>False</td>\n",
       "      <td>False</td>\n",
       "      <td>False</td>\n",
       "      <td>False</td>\n",
       "      <td>False</td>\n",
       "      <td>False</td>\n",
       "      <td>False</td>\n",
       "      <td>False</td>\n",
       "      <td>False</td>\n",
       "    </tr>\n",
       "    <tr>\n",
       "      <th>2</th>\n",
       "      <td>False</td>\n",
       "      <td>False</td>\n",
       "      <td>False</td>\n",
       "      <td>False</td>\n",
       "      <td>False</td>\n",
       "      <td>False</td>\n",
       "      <td>False</td>\n",
       "      <td>False</td>\n",
       "      <td>False</td>\n",
       "    </tr>\n",
       "    <tr>\n",
       "      <th>3</th>\n",
       "      <td>False</td>\n",
       "      <td>False</td>\n",
       "      <td>False</td>\n",
       "      <td>False</td>\n",
       "      <td>False</td>\n",
       "      <td>False</td>\n",
       "      <td>False</td>\n",
       "      <td>False</td>\n",
       "      <td>False</td>\n",
       "    </tr>\n",
       "    <tr>\n",
       "      <th>4</th>\n",
       "      <td>False</td>\n",
       "      <td>False</td>\n",
       "      <td>False</td>\n",
       "      <td>False</td>\n",
       "      <td>False</td>\n",
       "      <td>False</td>\n",
       "      <td>False</td>\n",
       "      <td>False</td>\n",
       "      <td>False</td>\n",
       "    </tr>\n",
       "    <tr>\n",
       "      <th>...</th>\n",
       "      <td>...</td>\n",
       "      <td>...</td>\n",
       "      <td>...</td>\n",
       "      <td>...</td>\n",
       "      <td>...</td>\n",
       "      <td>...</td>\n",
       "      <td>...</td>\n",
       "      <td>...</td>\n",
       "      <td>...</td>\n",
       "    </tr>\n",
       "    <tr>\n",
       "      <th>2995</th>\n",
       "      <td>False</td>\n",
       "      <td>False</td>\n",
       "      <td>False</td>\n",
       "      <td>False</td>\n",
       "      <td>False</td>\n",
       "      <td>False</td>\n",
       "      <td>False</td>\n",
       "      <td>False</td>\n",
       "      <td>False</td>\n",
       "    </tr>\n",
       "    <tr>\n",
       "      <th>2996</th>\n",
       "      <td>False</td>\n",
       "      <td>False</td>\n",
       "      <td>False</td>\n",
       "      <td>False</td>\n",
       "      <td>False</td>\n",
       "      <td>False</td>\n",
       "      <td>False</td>\n",
       "      <td>False</td>\n",
       "      <td>False</td>\n",
       "    </tr>\n",
       "    <tr>\n",
       "      <th>2997</th>\n",
       "      <td>False</td>\n",
       "      <td>False</td>\n",
       "      <td>False</td>\n",
       "      <td>False</td>\n",
       "      <td>False</td>\n",
       "      <td>False</td>\n",
       "      <td>False</td>\n",
       "      <td>False</td>\n",
       "      <td>False</td>\n",
       "    </tr>\n",
       "    <tr>\n",
       "      <th>2998</th>\n",
       "      <td>False</td>\n",
       "      <td>False</td>\n",
       "      <td>False</td>\n",
       "      <td>False</td>\n",
       "      <td>False</td>\n",
       "      <td>False</td>\n",
       "      <td>False</td>\n",
       "      <td>False</td>\n",
       "      <td>False</td>\n",
       "    </tr>\n",
       "    <tr>\n",
       "      <th>2999</th>\n",
       "      <td>False</td>\n",
       "      <td>False</td>\n",
       "      <td>False</td>\n",
       "      <td>False</td>\n",
       "      <td>False</td>\n",
       "      <td>False</td>\n",
       "      <td>False</td>\n",
       "      <td>False</td>\n",
       "      <td>False</td>\n",
       "    </tr>\n",
       "  </tbody>\n",
       "</table>\n",
       "<p>3000 rows × 9 columns</p>\n",
       "</div>"
      ],
      "text/plain": [
       "      longitude  latitude  housing_median_age  total_rooms  total_bedrooms  \\\n",
       "0         False     False               False        False           False   \n",
       "1         False     False               False        False           False   \n",
       "2         False     False               False        False           False   \n",
       "3         False     False               False        False           False   \n",
       "4         False     False               False        False           False   \n",
       "...         ...       ...                 ...          ...             ...   \n",
       "2995      False     False               False        False           False   \n",
       "2996      False     False               False        False           False   \n",
       "2997      False     False               False        False           False   \n",
       "2998      False     False               False        False           False   \n",
       "2999      False     False               False        False           False   \n",
       "\n",
       "      population  households  median_income  median_house_value  \n",
       "0          False       False          False               False  \n",
       "1          False       False          False               False  \n",
       "2          False       False          False               False  \n",
       "3          False       False          False               False  \n",
       "4          False       False          False               False  \n",
       "...          ...         ...            ...                 ...  \n",
       "2995       False       False          False               False  \n",
       "2996       False       False          False               False  \n",
       "2997       False       False          False               False  \n",
       "2998       False       False          False               False  \n",
       "2999       False       False          False               False  \n",
       "\n",
       "[3000 rows x 9 columns]"
      ]
     },
     "execution_count": 21,
     "metadata": {},
     "output_type": "execute_result"
    }
   ],
   "source": [
    "df.isnull()"
   ]
  },
  {
   "cell_type": "code",
   "execution_count": 22,
   "id": "f738baee-e27a-4a23-834b-decb941a63c6",
   "metadata": {
    "tags": []
   },
   "outputs": [
    {
     "data": {
      "text/plain": [
       "longitude             0\n",
       "latitude              0\n",
       "housing_median_age    0\n",
       "total_rooms           0\n",
       "total_bedrooms        0\n",
       "population            0\n",
       "households            0\n",
       "median_income         0\n",
       "median_house_value    0\n",
       "dtype: int64"
      ]
     },
     "execution_count": 22,
     "metadata": {},
     "output_type": "execute_result"
    }
   ],
   "source": [
    "#колво null-значений в каждой ячейке по столбцам\n",
    "df.isnull().sum()"
   ]
  },
  {
   "cell_type": "code",
   "execution_count": 18,
   "id": "96ed23e6-5fc0-4eef-b972-070843721ff5",
   "metadata": {
    "tags": []
   },
   "outputs": [],
   "source": [
    "# 2. Показать median_house_value где median_income < 2"
   ]
  },
  {
   "cell_type": "code",
   "execution_count": 23,
   "id": "86a1ede7-8e98-46a9-bf7b-a5e41263e9ee",
   "metadata": {
    "tags": []
   },
   "outputs": [
    {
     "data": {
      "text/plain": [
       "5        67000.0\n",
       "6        67000.0\n",
       "16      181300.0\n",
       "28      350000.0\n",
       "43       79300.0\n",
       "          ...   \n",
       "2943     57200.0\n",
       "2964     91300.0\n",
       "2985    109400.0\n",
       "2986     85400.0\n",
       "2995    225000.0\n",
       "Name: median_house_value, Length: 360, dtype: float64"
      ]
     },
     "execution_count": 23,
     "metadata": {},
     "output_type": "execute_result"
    }
   ],
   "source": [
    "df[df.median_income < 2]['median_house_value']"
   ]
  },
  {
   "cell_type": "code",
   "execution_count": 25,
   "id": "f5323ec3-dd19-4617-9f4d-fba1ebd63426",
   "metadata": {},
   "outputs": [
    {
     "data": {
      "text/plain": [
       "5        67000.0\n",
       "6        67000.0\n",
       "16      181300.0\n",
       "28      350000.0\n",
       "43       79300.0\n",
       "          ...   \n",
       "2943     57200.0\n",
       "2964     91300.0\n",
       "2985    109400.0\n",
       "2986     85400.0\n",
       "2995    225000.0\n",
       "Name: median_house_value, Length: 360, dtype: float64"
      ]
     },
     "execution_count": 25,
     "metadata": {},
     "output_type": "execute_result"
    }
   ],
   "source": [
    "df[df.median_income < 2]['median_house_value']\n",
    "\n"
   ]
  },
  {
   "cell_type": "code",
   "execution_count": 28,
   "id": "8dc92a30-4cd0-4f71-b1c2-24c6af9915af",
   "metadata": {
    "tags": []
   },
   "outputs": [
    {
     "data": {
      "text/html": [
       "<div>\n",
       "<style scoped>\n",
       "    .dataframe tbody tr th:only-of-type {\n",
       "        vertical-align: middle;\n",
       "    }\n",
       "\n",
       "    .dataframe tbody tr th {\n",
       "        vertical-align: top;\n",
       "    }\n",
       "\n",
       "    .dataframe thead th {\n",
       "        text-align: right;\n",
       "    }\n",
       "</style>\n",
       "<table border=\"1\" class=\"dataframe\">\n",
       "  <thead>\n",
       "    <tr style=\"text-align: right;\">\n",
       "      <th></th>\n",
       "      <th>longitude</th>\n",
       "      <th>latitude</th>\n",
       "    </tr>\n",
       "  </thead>\n",
       "  <tbody>\n",
       "    <tr>\n",
       "      <th>0</th>\n",
       "      <td>-122.05</td>\n",
       "      <td>37.37</td>\n",
       "    </tr>\n",
       "    <tr>\n",
       "      <th>1</th>\n",
       "      <td>-118.30</td>\n",
       "      <td>34.26</td>\n",
       "    </tr>\n",
       "    <tr>\n",
       "      <th>2</th>\n",
       "      <td>-117.81</td>\n",
       "      <td>33.78</td>\n",
       "    </tr>\n",
       "    <tr>\n",
       "      <th>3</th>\n",
       "      <td>-118.36</td>\n",
       "      <td>33.82</td>\n",
       "    </tr>\n",
       "    <tr>\n",
       "      <th>4</th>\n",
       "      <td>-119.67</td>\n",
       "      <td>36.33</td>\n",
       "    </tr>\n",
       "    <tr>\n",
       "      <th>...</th>\n",
       "      <td>...</td>\n",
       "      <td>...</td>\n",
       "    </tr>\n",
       "    <tr>\n",
       "      <th>2995</th>\n",
       "      <td>-119.86</td>\n",
       "      <td>34.42</td>\n",
       "    </tr>\n",
       "    <tr>\n",
       "      <th>2996</th>\n",
       "      <td>-118.14</td>\n",
       "      <td>34.06</td>\n",
       "    </tr>\n",
       "    <tr>\n",
       "      <th>2997</th>\n",
       "      <td>-119.70</td>\n",
       "      <td>36.30</td>\n",
       "    </tr>\n",
       "    <tr>\n",
       "      <th>2998</th>\n",
       "      <td>-117.12</td>\n",
       "      <td>34.10</td>\n",
       "    </tr>\n",
       "    <tr>\n",
       "      <th>2999</th>\n",
       "      <td>-119.63</td>\n",
       "      <td>34.42</td>\n",
       "    </tr>\n",
       "  </tbody>\n",
       "</table>\n",
       "<p>3000 rows × 2 columns</p>\n",
       "</div>"
      ],
      "text/plain": [
       "      longitude  latitude\n",
       "0       -122.05     37.37\n",
       "1       -118.30     34.26\n",
       "2       -117.81     33.78\n",
       "3       -118.36     33.82\n",
       "4       -119.67     36.33\n",
       "...         ...       ...\n",
       "2995    -119.86     34.42\n",
       "2996    -118.14     34.06\n",
       "2997    -119.70     36.30\n",
       "2998    -117.12     34.10\n",
       "2999    -119.63     34.42\n",
       "\n",
       "[3000 rows x 2 columns]"
      ]
     },
     "execution_count": 28,
     "metadata": {},
     "output_type": "execute_result"
    }
   ],
   "source": [
    "# 3. Показать данные в первых 2 столбцах\n",
    "df[['longitude','latitude']]"
   ]
  },
  {
   "cell_type": "code",
   "execution_count": 29,
   "id": "dd51da30-a099-4502-bc78-3039c29a8372",
   "metadata": {
    "tags": []
   },
   "outputs": [
    {
     "data": {
      "text/html": [
       "<div>\n",
       "<style scoped>\n",
       "    .dataframe tbody tr th:only-of-type {\n",
       "        vertical-align: middle;\n",
       "    }\n",
       "\n",
       "    .dataframe tbody tr th {\n",
       "        vertical-align: top;\n",
       "    }\n",
       "\n",
       "    .dataframe thead th {\n",
       "        text-align: right;\n",
       "    }\n",
       "</style>\n",
       "<table border=\"1\" class=\"dataframe\">\n",
       "  <thead>\n",
       "    <tr style=\"text-align: right;\">\n",
       "      <th></th>\n",
       "      <th>longitude</th>\n",
       "      <th>latitude</th>\n",
       "    </tr>\n",
       "  </thead>\n",
       "  <tbody>\n",
       "    <tr>\n",
       "      <th>0</th>\n",
       "      <td>-122.05</td>\n",
       "      <td>37.37</td>\n",
       "    </tr>\n",
       "    <tr>\n",
       "      <th>1</th>\n",
       "      <td>-118.30</td>\n",
       "      <td>34.26</td>\n",
       "    </tr>\n",
       "    <tr>\n",
       "      <th>2</th>\n",
       "      <td>-117.81</td>\n",
       "      <td>33.78</td>\n",
       "    </tr>\n",
       "    <tr>\n",
       "      <th>3</th>\n",
       "      <td>-118.36</td>\n",
       "      <td>33.82</td>\n",
       "    </tr>\n",
       "    <tr>\n",
       "      <th>4</th>\n",
       "      <td>-119.67</td>\n",
       "      <td>36.33</td>\n",
       "    </tr>\n",
       "    <tr>\n",
       "      <th>...</th>\n",
       "      <td>...</td>\n",
       "      <td>...</td>\n",
       "    </tr>\n",
       "    <tr>\n",
       "      <th>2995</th>\n",
       "      <td>-119.86</td>\n",
       "      <td>34.42</td>\n",
       "    </tr>\n",
       "    <tr>\n",
       "      <th>2996</th>\n",
       "      <td>-118.14</td>\n",
       "      <td>34.06</td>\n",
       "    </tr>\n",
       "    <tr>\n",
       "      <th>2997</th>\n",
       "      <td>-119.70</td>\n",
       "      <td>36.30</td>\n",
       "    </tr>\n",
       "    <tr>\n",
       "      <th>2998</th>\n",
       "      <td>-117.12</td>\n",
       "      <td>34.10</td>\n",
       "    </tr>\n",
       "    <tr>\n",
       "      <th>2999</th>\n",
       "      <td>-119.63</td>\n",
       "      <td>34.42</td>\n",
       "    </tr>\n",
       "  </tbody>\n",
       "</table>\n",
       "<p>3000 rows × 2 columns</p>\n",
       "</div>"
      ],
      "text/plain": [
       "      longitude  latitude\n",
       "0       -122.05     37.37\n",
       "1       -118.30     34.26\n",
       "2       -117.81     33.78\n",
       "3       -118.36     33.82\n",
       "4       -119.67     36.33\n",
       "...         ...       ...\n",
       "2995    -119.86     34.42\n",
       "2996    -118.14     34.06\n",
       "2997    -119.70     36.30\n",
       "2998    -117.12     34.10\n",
       "2999    -119.63     34.42\n",
       "\n",
       "[3000 rows x 2 columns]"
      ]
     },
     "execution_count": 29,
     "metadata": {},
     "output_type": "execute_result"
    }
   ],
   "source": [
    "df[df.columns[:2]]"
   ]
  },
  {
   "cell_type": "code",
   "execution_count": 34,
   "id": "f86b65b8-8195-47b6-8243-0fb44fa9b5aa",
   "metadata": {
    "tags": []
   },
   "outputs": [
    {
     "data": {
      "text/html": [
       "<div>\n",
       "<style scoped>\n",
       "    .dataframe tbody tr th:only-of-type {\n",
       "        vertical-align: middle;\n",
       "    }\n",
       "\n",
       "    .dataframe tbody tr th {\n",
       "        vertical-align: top;\n",
       "    }\n",
       "\n",
       "    .dataframe thead th {\n",
       "        text-align: right;\n",
       "    }\n",
       "</style>\n",
       "<table border=\"1\" class=\"dataframe\">\n",
       "  <thead>\n",
       "    <tr style=\"text-align: right;\">\n",
       "      <th></th>\n",
       "      <th>longitude</th>\n",
       "      <th>latitude</th>\n",
       "      <th>housing_median_age</th>\n",
       "      <th>total_rooms</th>\n",
       "      <th>total_bedrooms</th>\n",
       "      <th>population</th>\n",
       "      <th>households</th>\n",
       "      <th>median_income</th>\n",
       "      <th>median_house_value</th>\n",
       "    </tr>\n",
       "  </thead>\n",
       "  <tbody>\n",
       "    <tr>\n",
       "      <th>4</th>\n",
       "      <td>-119.67</td>\n",
       "      <td>36.33</td>\n",
       "      <td>19.0</td>\n",
       "      <td>1241.0</td>\n",
       "      <td>244.0</td>\n",
       "      <td>850.0</td>\n",
       "      <td>237.0</td>\n",
       "      <td>2.9375</td>\n",
       "      <td>81700.0</td>\n",
       "    </tr>\n",
       "    <tr>\n",
       "      <th>7</th>\n",
       "      <td>-120.65</td>\n",
       "      <td>35.48</td>\n",
       "      <td>19.0</td>\n",
       "      <td>2310.0</td>\n",
       "      <td>471.0</td>\n",
       "      <td>1341.0</td>\n",
       "      <td>441.0</td>\n",
       "      <td>3.2250</td>\n",
       "      <td>166900.0</td>\n",
       "    </tr>\n",
       "    <tr>\n",
       "      <th>8</th>\n",
       "      <td>-122.84</td>\n",
       "      <td>38.40</td>\n",
       "      <td>15.0</td>\n",
       "      <td>3080.0</td>\n",
       "      <td>617.0</td>\n",
       "      <td>1446.0</td>\n",
       "      <td>599.0</td>\n",
       "      <td>3.6696</td>\n",
       "      <td>194400.0</td>\n",
       "    </tr>\n",
       "    <tr>\n",
       "      <th>13</th>\n",
       "      <td>-117.03</td>\n",
       "      <td>32.97</td>\n",
       "      <td>16.0</td>\n",
       "      <td>3936.0</td>\n",
       "      <td>694.0</td>\n",
       "      <td>1935.0</td>\n",
       "      <td>659.0</td>\n",
       "      <td>4.5625</td>\n",
       "      <td>231200.0</td>\n",
       "    </tr>\n",
       "    <tr>\n",
       "      <th>16</th>\n",
       "      <td>-120.81</td>\n",
       "      <td>37.53</td>\n",
       "      <td>15.0</td>\n",
       "      <td>570.0</td>\n",
       "      <td>123.0</td>\n",
       "      <td>189.0</td>\n",
       "      <td>107.0</td>\n",
       "      <td>1.8750</td>\n",
       "      <td>181300.0</td>\n",
       "    </tr>\n",
       "    <tr>\n",
       "      <th>...</th>\n",
       "      <td>...</td>\n",
       "      <td>...</td>\n",
       "      <td>...</td>\n",
       "      <td>...</td>\n",
       "      <td>...</td>\n",
       "      <td>...</td>\n",
       "      <td>...</td>\n",
       "      <td>...</td>\n",
       "      <td>...</td>\n",
       "    </tr>\n",
       "    <tr>\n",
       "      <th>2978</th>\n",
       "      <td>-121.34</td>\n",
       "      <td>38.64</td>\n",
       "      <td>17.0</td>\n",
       "      <td>2761.0</td>\n",
       "      <td>501.0</td>\n",
       "      <td>1128.0</td>\n",
       "      <td>482.0</td>\n",
       "      <td>3.7562</td>\n",
       "      <td>139700.0</td>\n",
       "    </tr>\n",
       "    <tr>\n",
       "      <th>2981</th>\n",
       "      <td>-120.66</td>\n",
       "      <td>35.49</td>\n",
       "      <td>17.0</td>\n",
       "      <td>4422.0</td>\n",
       "      <td>945.0</td>\n",
       "      <td>2307.0</td>\n",
       "      <td>885.0</td>\n",
       "      <td>2.8285</td>\n",
       "      <td>171300.0</td>\n",
       "    </tr>\n",
       "    <tr>\n",
       "      <th>2984</th>\n",
       "      <td>-117.59</td>\n",
       "      <td>33.88</td>\n",
       "      <td>13.0</td>\n",
       "      <td>3239.0</td>\n",
       "      <td>849.0</td>\n",
       "      <td>2751.0</td>\n",
       "      <td>813.0</td>\n",
       "      <td>2.6111</td>\n",
       "      <td>107000.0</td>\n",
       "    </tr>\n",
       "    <tr>\n",
       "      <th>2985</th>\n",
       "      <td>-120.47</td>\n",
       "      <td>34.94</td>\n",
       "      <td>17.0</td>\n",
       "      <td>1368.0</td>\n",
       "      <td>308.0</td>\n",
       "      <td>642.0</td>\n",
       "      <td>303.0</td>\n",
       "      <td>1.8633</td>\n",
       "      <td>109400.0</td>\n",
       "    </tr>\n",
       "    <tr>\n",
       "      <th>2991</th>\n",
       "      <td>-117.17</td>\n",
       "      <td>34.28</td>\n",
       "      <td>13.0</td>\n",
       "      <td>4867.0</td>\n",
       "      <td>718.0</td>\n",
       "      <td>780.0</td>\n",
       "      <td>250.0</td>\n",
       "      <td>7.1997</td>\n",
       "      <td>253800.0</td>\n",
       "    </tr>\n",
       "  </tbody>\n",
       "</table>\n",
       "<p>792 rows × 9 columns</p>\n",
       "</div>"
      ],
      "text/plain": [
       "      longitude  latitude  housing_median_age  total_rooms  total_bedrooms  \\\n",
       "4       -119.67     36.33                19.0       1241.0           244.0   \n",
       "7       -120.65     35.48                19.0       2310.0           471.0   \n",
       "8       -122.84     38.40                15.0       3080.0           617.0   \n",
       "13      -117.03     32.97                16.0       3936.0           694.0   \n",
       "16      -120.81     37.53                15.0        570.0           123.0   \n",
       "...         ...       ...                 ...          ...             ...   \n",
       "2978    -121.34     38.64                17.0       2761.0           501.0   \n",
       "2981    -120.66     35.49                17.0       4422.0           945.0   \n",
       "2984    -117.59     33.88                13.0       3239.0           849.0   \n",
       "2985    -120.47     34.94                17.0       1368.0           308.0   \n",
       "2991    -117.17     34.28                13.0       4867.0           718.0   \n",
       "\n",
       "      population  households  median_income  median_house_value  \n",
       "4          850.0       237.0         2.9375             81700.0  \n",
       "7         1341.0       441.0         3.2250            166900.0  \n",
       "8         1446.0       599.0         3.6696            194400.0  \n",
       "13        1935.0       659.0         4.5625            231200.0  \n",
       "16         189.0       107.0         1.8750            181300.0  \n",
       "...          ...         ...            ...                 ...  \n",
       "2978      1128.0       482.0         3.7562            139700.0  \n",
       "2981      2307.0       885.0         2.8285            171300.0  \n",
       "2984      2751.0       813.0         2.6111            107000.0  \n",
       "2985       642.0       303.0         1.8633            109400.0  \n",
       "2991       780.0       250.0         7.1997            253800.0  \n",
       "\n",
       "[792 rows x 9 columns]"
      ]
     },
     "execution_count": 34,
     "metadata": {},
     "output_type": "execute_result"
    }
   ],
   "source": [
    "# 4. Выбрать данные где housing_median_age < 20 и\n",
    "# median_house_value > 70000\n",
    "df[(df.housing_median_age < 20) & (df.median_house_value > 70000)]"
   ]
  },
  {
   "cell_type": "code",
   "execution_count": 35,
   "id": "9855a0cf-905c-4350-a79f-dd64e131e0fa",
   "metadata": {
    "tags": []
   },
   "outputs": [],
   "source": [
    "# 1. Определить какое максимальное и минимальное\n",
    "# значение median_house_value\n",
    "# 2. Показать максимальное median_house_value, где\n",
    "# median_income = 3.1250\n",
    "# 3. Узнать какая максимальная population в зоне\n",
    "# минимального значения median_house_value"
   ]
  },
  {
   "cell_type": "code",
   "execution_count": 36,
   "id": "d9ef5759-00ff-4db0-b5d6-1da2f9eddee8",
   "metadata": {
    "tags": []
   },
   "outputs": [],
   "source": [
    "# 1. Определить какое максимальное и минимальное\n",
    "# значение median_house_value"
   ]
  },
  {
   "cell_type": "code",
   "execution_count": 46,
   "id": "bf9bdde6-bff5-4c92-8399-b7b98eb7a539",
   "metadata": {
    "tags": []
   },
   "outputs": [
    {
     "name": "stdout",
     "output_type": "stream",
     "text": [
      " максимальное и минимальное значение median_house_value 500001.0 И 22500.0\n"
     ]
    }
   ],
   "source": [
    "\n",
    "print(f\" максимальное и минимальное значение median_house_value {df['median_house_value'].max()} И {df['median_house_value'].min()}\")"
   ]
  },
  {
   "cell_type": "code",
   "execution_count": 48,
   "id": "0fe739df-de73-475f-9adb-3ab869734683",
   "metadata": {
    "tags": []
   },
   "outputs": [
    {
     "data": {
      "text/plain": [
       "233300.0"
      ]
     },
     "execution_count": 48,
     "metadata": {},
     "output_type": "execute_result"
    }
   ],
   "source": [
    "# 2. Показать максимальное median_house_value, где\n",
    "# median_income = 3.1250\n",
    "df[df['median_income'] == 3.1250]['median_house_value'].max()"
   ]
  },
  {
   "cell_type": "code",
   "execution_count": 54,
   "id": "50f58720-c61a-412e-aea1-d1337dd63958",
   "metadata": {
    "tags": []
   },
   "outputs": [
    {
     "data": {
      "text/plain": [
       "1230.0"
      ]
     },
     "execution_count": 54,
     "metadata": {},
     "output_type": "execute_result"
    }
   ],
   "source": [
    "# 3. Узнать какая максимальная population в зоне\n",
    "# минимального значения median_house_value\n",
    "df[df['median_house_value'] == df['median_house_value'].min()]['population'].max()"
   ]
  },
  {
   "cell_type": "code",
   "execution_count": 55,
   "id": "d558f53d-a9ae-4d56-a141-91583eea4347",
   "metadata": {
    "tags": []
   },
   "outputs": [
    {
     "data": {
      "text/plain": [
       "500001.0"
      ]
     },
     "execution_count": 55,
     "metadata": {},
     "output_type": "execute_result"
    }
   ],
   "source": [
    "# 2. Показать максимальное median_house_value, где\n",
    "# median_income = 3.1250\n",
    "df['median_house_value'].max()"
   ]
  },
  {
   "cell_type": "code",
   "execution_count": 56,
   "id": "ee686556-a860-4df2-8af6-0323d0d2f50a",
   "metadata": {
    "tags": []
   },
   "outputs": [
    {
     "data": {
      "text/plain": [
       "22500.0"
      ]
     },
     "execution_count": 56,
     "metadata": {},
     "output_type": "execute_result"
    }
   ],
   "source": [
    "df['median_house_value'].min()"
   ]
  },
  {
   "cell_type": "code",
   "execution_count": null,
   "id": "c02980a6-48e6-4c62-8e51-09588d5b3fac",
   "metadata": {},
   "outputs": [],
   "source": []
  }
 ],
 "metadata": {
  "kernelspec": {
   "display_name": "Python 3.10.6 64-bit",
   "language": "python",
   "name": "python3"
  },
  "language_info": {
   "codemirror_mode": {
    "name": "ipython",
    "version": 3
   },
   "file_extension": ".py",
   "mimetype": "text/x-python",
   "name": "python",
   "nbconvert_exporter": "python",
   "pygments_lexer": "ipython3",
   "version": "3.10.6"
  },
  "vscode": {
   "interpreter": {
    "hash": "916dbcbb3f70747c44a77c7bcd40155683ae19c65e1c03b4aa3499c5328201f1"
   }
  }
 },
 "nbformat": 4,
 "nbformat_minor": 5
}
